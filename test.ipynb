{
 "metadata": {
  "language_info": {
   "codemirror_mode": {
    "name": "ipython",
    "version": 3
   },
   "file_extension": ".py",
   "mimetype": "text/x-python",
   "name": "python",
   "nbconvert_exporter": "python",
   "pygments_lexer": "ipython3",
   "version": "3.8.5-final"
  },
  "orig_nbformat": 2,
  "kernelspec": {
   "name": "python3",
   "display_name": "Python 3"
  }
 },
 "nbformat": 4,
 "nbformat_minor": 2,
 "cells": [
  {
   "cell_type": "code",
   "execution_count": 119,
   "metadata": {},
   "outputs": [
    {
     "output_type": "stream",
     "name": "stdout",
     "text": [
      "None\n[{'id': 'cf821eea-a4c3-4937-b3e7-863fd5eac3a3', 'currency': 'ALGO', 'balance': '0.0000000000000000', 'hold': '0.0000000000000000', 'available': '0', 'profile_id': 'aa181fe5-7ef8-4f3f-9b28-acc10bc115ac', 'trading_enabled': True}, {'id': '2da48967-cce2-4b0b-89fe-6211bbbd2d7b', 'currency': 'ATOM', 'balance': '0.0000000000000000', 'hold': '0.0000000000000000', 'available': '0', 'profile_id': 'aa181fe5-7ef8-4f3f-9b28-acc10bc115ac', 'trading_enabled': True}, {'id': 'f781e1b1-a15e-4a38-95c0-0d05fcad949c', 'currency': 'BAL', 'balance': '0.0000000000000000', 'hold': '0.0000000000000000', 'available': '0', 'profile_id': 'aa181fe5-7ef8-4f3f-9b28-acc10bc115ac', 'trading_enabled': True}, {'id': 'f463b7c3-c2d7-4bed-a51b-edcfc29e65a6', 'currency': 'BAND', 'balance': '0.0000000000000000', 'hold': '0.0000000000000000', 'available': '0', 'profile_id': 'aa181fe5-7ef8-4f3f-9b28-acc10bc115ac', 'trading_enabled': True}, {'id': 'ba826d64-5a6a-454f-bf98-e7da529cc369', 'currency': 'BAT', 'balance': '0.0000000000000000', 'hold': '0.0000000000000000', 'available': '0', 'profile_id': 'aa181fe5-7ef8-4f3f-9b28-acc10bc115ac', 'trading_enabled': True}, {'id': '622770c2-9bea-472e-90c4-5a9a9939c799', 'currency': 'BCH', 'balance': '0.0000000000000000', 'hold': '0.0000000000000000', 'available': '0', 'profile_id': 'aa181fe5-7ef8-4f3f-9b28-acc10bc115ac', 'trading_enabled': True}, {'id': 'a8df598e-6254-4906-99ab-de48cda89f0f', 'currency': 'BTC', 'balance': '0.0544137700000000', 'hold': '0.0000000000000000', 'available': '0.05441377', 'profile_id': 'aa181fe5-7ef8-4f3f-9b28-acc10bc115ac', 'trading_enabled': True}, {'id': '95dc224a-6c66-4c0a-a258-24c6c8c71f63', 'currency': 'CGLD', 'balance': '0.0000000000000000', 'hold': '0.0000000000000000', 'available': '0', 'profile_id': 'aa181fe5-7ef8-4f3f-9b28-acc10bc115ac', 'trading_enabled': True}, {'id': 'e42eb298-c504-4287-b923-81aa7d59ad42', 'currency': 'COMP', 'balance': '0.0000000000000000', 'hold': '0.0000000000000000', 'available': '0', 'profile_id': 'aa181fe5-7ef8-4f3f-9b28-acc10bc115ac', 'trading_enabled': True}, {'id': '3ddb2b9e-f857-4e10-a464-1a6f90eb67f4', 'currency': 'CVC', 'balance': '0.0000000000000000', 'hold': '0.0000000000000000', 'available': '0', 'profile_id': 'aa181fe5-7ef8-4f3f-9b28-acc10bc115ac', 'trading_enabled': True}, {'id': 'bd1a039a-ec76-400c-8037-71dcdaab6904', 'currency': 'DAI', 'balance': '0.0000000000000000', 'hold': '0.0000000000000000', 'available': '0', 'profile_id': 'aa181fe5-7ef8-4f3f-9b28-acc10bc115ac', 'trading_enabled': True}, {'id': '92866cc5-73ba-4433-b5d3-0e716e5fe726', 'currency': 'DASH', 'balance': '0.0000000000000000', 'hold': '0.0000000000000000', 'available': '0', 'profile_id': 'aa181fe5-7ef8-4f3f-9b28-acc10bc115ac', 'trading_enabled': True}, {'id': '30c72b53-9607-4f95-ab56-120b1ba23a0a', 'currency': 'DNT', 'balance': '0.0000000000000000', 'hold': '0.0000000000000000', 'available': '0', 'profile_id': 'aa181fe5-7ef8-4f3f-9b28-acc10bc115ac', 'trading_enabled': True}, {'id': '8857d177-f86d-4d50-a92e-2b386d772b8e', 'currency': 'EOS', 'balance': '0.0000000000000000', 'hold': '0.0000000000000000', 'available': '0', 'profile_id': 'aa181fe5-7ef8-4f3f-9b28-acc10bc115ac', 'trading_enabled': True}, {'id': 'e294f0c0-4dba-4234-8ac7-6b1ba8326954', 'currency': 'ETC', 'balance': '0.0000000000000000', 'hold': '0.0000000000000000', 'available': '0', 'profile_id': 'aa181fe5-7ef8-4f3f-9b28-acc10bc115ac', 'trading_enabled': True}, {'id': '4e70203d-69b5-4c27-a7cc-ca067370141b', 'currency': 'ETH', 'balance': '3.6795535600000000', 'hold': '0.0000000000000000', 'available': '3.67955356', 'profile_id': 'aa181fe5-7ef8-4f3f-9b28-acc10bc115ac', 'trading_enabled': True}, {'id': '3589c107-e661-4880-b928-cf5ef8918d25', 'currency': 'GNT', 'balance': '0.0000000000000000', 'hold': '0.0000000000000000', 'available': '0', 'profile_id': 'aa181fe5-7ef8-4f3f-9b28-acc10bc115ac', 'trading_enabled': True}, {'id': '0a714906-e054-4dad-9be5-18ad7b68e618', 'currency': 'KNC', 'balance': '0.0000000000000000', 'hold': '0.0000000000000000', 'available': '0', 'profile_id': 'aa181fe5-7ef8-4f3f-9b28-acc10bc115ac', 'trading_enabled': True}, {'id': 'dd482407-26ad-457a-b447-cfe985ce240a', 'currency': 'LINK', 'balance': '0.0000000000000000', 'hold': '0.0000000000000000', 'available': '0', 'profile_id': 'aa181fe5-7ef8-4f3f-9b28-acc10bc115ac', 'trading_enabled': True}, {'id': 'e8ae1454-aa17-441c-826c-564e4585d8ef', 'currency': 'LOOM', 'balance': '0.0000000000000000', 'hold': '0.0000000000000000', 'available': '0', 'profile_id': 'aa181fe5-7ef8-4f3f-9b28-acc10bc115ac', 'trading_enabled': True}, {'id': '500284a9-1584-4b5b-ba92-6f29093988ea', 'currency': 'LRC', 'balance': '0.0000000000000000', 'hold': '0.0000000000000000', 'available': '0', 'profile_id': 'aa181fe5-7ef8-4f3f-9b28-acc10bc115ac', 'trading_enabled': True}, {'id': '03834562-faf4-4c14-8676-c626c4e39ac6', 'currency': 'LTC', 'balance': '0.0000000000000000', 'hold': '0.0000000000000000', 'available': '0', 'profile_id': 'aa181fe5-7ef8-4f3f-9b28-acc10bc115ac', 'trading_enabled': True}, {'id': '32019702-50cc-4fb2-b6b9-d6829470285c', 'currency': 'MANA', 'balance': '0.0000000000000000', 'hold': '0.0000000000000000', 'available': '0', 'profile_id': 'aa181fe5-7ef8-4f3f-9b28-acc10bc115ac', 'trading_enabled': True}, {'id': 'e5b8b1b5-2c96-4d5c-9481-6204b3e05b7d', 'currency': 'MKR', 'balance': '0.0000000000000000', 'hold': '0.0000000000000000', 'available': '0', 'profile_id': 'aa181fe5-7ef8-4f3f-9b28-acc10bc115ac', 'trading_enabled': True}, {'id': '607e1bdb-91d2-45df-a6ce-90181e7bb79a', 'currency': 'NMR', 'balance': '0.0000000000000000', 'hold': '0.0000000000000000', 'available': '0', 'profile_id': 'aa181fe5-7ef8-4f3f-9b28-acc10bc115ac', 'trading_enabled': True}, {'id': '593f7ad8-54d1-4810-ab10-fbf753169bd8', 'currency': 'OMG', 'balance': '0.0000000000000000', 'hold': '0.0000000000000000', 'available': '0', 'profile_id': 'aa181fe5-7ef8-4f3f-9b28-acc10bc115ac', 'trading_enabled': True}, {'id': 'c019b4c3-9a21-470f-a264-2acb1b4e781c', 'currency': 'OXT', 'balance': '0.0000000000000000', 'hold': '0.0000000000000000', 'available': '0', 'profile_id': 'aa181fe5-7ef8-4f3f-9b28-acc10bc115ac', 'trading_enabled': True}, {'id': '1bbe4eac-945f-46ac-9d5d-ff8644dbf768', 'currency': 'REN', 'balance': '0.0000000000000000', 'hold': '0.0000000000000000', 'available': '0', 'profile_id': 'aa181fe5-7ef8-4f3f-9b28-acc10bc115ac', 'trading_enabled': True}, {'id': '2369e540-842e-43c0-9dca-288db26d45ee', 'currency': 'REP', 'balance': '0.0000000000000000', 'hold': '0.0000000000000000', 'available': '0', 'profile_id': 'aa181fe5-7ef8-4f3f-9b28-acc10bc115ac', 'trading_enabled': True}, {'id': '8b059fb9-34da-471e-bb73-f15197c813e7', 'currency': 'UMA', 'balance': '0.0000000000000000', 'hold': '0.0000000000000000', 'available': '0', 'profile_id': 'aa181fe5-7ef8-4f3f-9b28-acc10bc115ac', 'trading_enabled': True}, {'id': '2ba7714f-d63c-4a13-b139-94ed3451c4c0', 'currency': 'UNI', 'balance': '0.0000000000000000', 'hold': '0.0000000000000000', 'available': '0', 'profile_id': 'aa181fe5-7ef8-4f3f-9b28-acc10bc115ac', 'trading_enabled': True}, {'id': '0cc39fba-a300-4d52-b759-8b0700d9ecbb', 'currency': 'USD', 'balance': '8100.0001008211695000', 'hold': '0.0000000000000000', 'available': '8100.0001008211695', 'profile_id': 'aa181fe5-7ef8-4f3f-9b28-acc10bc115ac', 'trading_enabled': True}, {'id': 'fe0a48b3-b64f-441d-bf63-473bf72d9390', 'currency': 'USDC', 'balance': '0.0000000000000000', 'hold': '0.0000000000000000', 'available': '0', 'profile_id': 'aa181fe5-7ef8-4f3f-9b28-acc10bc115ac', 'trading_enabled': True}, {'id': 'cc990501-5b1c-4016-937f-1405351721c7', 'currency': 'WBTC', 'balance': '0.0000000000000000', 'hold': '0.0000000000000000', 'available': '0', 'profile_id': 'aa181fe5-7ef8-4f3f-9b28-acc10bc115ac', 'trading_enabled': True}, {'id': '8009dff2-4c70-49ba-827c-ce5fea3fc4ff', 'currency': 'XLM', 'balance': '0.0000000000000000', 'hold': '0.0000000000000000', 'available': '0', 'profile_id': 'aa181fe5-7ef8-4f3f-9b28-acc10bc115ac', 'trading_enabled': True}, {'id': 'b10cce1b-866b-4b81-8118-3f4ac45943eb', 'currency': 'XRP', 'balance': '0.0000000000000000', 'hold': '0.0000000000000000', 'available': '0', 'profile_id': 'aa181fe5-7ef8-4f3f-9b28-acc10bc115ac', 'trading_enabled': True}, {'id': '5280cf86-2a34-4836-96e8-0c2bc9d6407a', 'currency': 'XTZ', 'balance': '0.0000000000000000', 'hold': '0.0000000000000000', 'available': '0', 'profile_id': 'aa181fe5-7ef8-4f3f-9b28-acc10bc115ac', 'trading_enabled': True}, {'id': 'cde58374-bc91-46fb-957c-b707e09f65f5', 'currency': 'YFI', 'balance': '0.0000000000000000', 'hold': '0.0000000000000000', 'available': '0', 'profile_id': 'aa181fe5-7ef8-4f3f-9b28-acc10bc115ac', 'trading_enabled': True}, {'id': '7ee0914d-d016-412b-ac3b-ea0ac7a0954c', 'currency': 'ZEC', 'balance': '0.0000000000000000', 'hold': '0.0000000000000000', 'available': '0', 'profile_id': 'aa181fe5-7ef8-4f3f-9b28-acc10bc115ac', 'trading_enabled': True}, {'id': '20b88069-80d9-4f96-8c2a-4a84bd11af91', 'currency': 'ZRX', 'balance': '0.0000000000000000', 'hold': '0.0000000000000000', 'available': '0', 'profile_id': 'aa181fe5-7ef8-4f3f-9b28-acc10bc115ac', 'trading_enabled': True}]\n"
     ]
    }
   ],
   "source": [
    "import hmac, hashlib, time, requests, os\n",
    "from requests.auth import AuthBase\n",
    "\n",
    "\n",
    "# Create custom authentication for Coinbase API\n",
    "class CoinbaseWalletAuth(AuthBase):\n",
    "    def __init__(self, api_key, secret_key, passphrase):\n",
    "        self.api_key = api_key\n",
    "        self.secret_key = secret_key\n",
    "        self.passphrase = passphrase\n",
    "\n",
    "    def __call__(self, request):\n",
    "        print(request.body)\n",
    "        timestamp = str(time.time())\n",
    "        message = (timestamp + (request.method).upper() + request.path_url + (request.body or ''))\n",
    "        message = message.encode('UTF-8')\n",
    "        hmac_key = base64.b64decode(self.secret_key)\n",
    "        signature = hmac.new(hmac_key, message, hashlib.sha256).digest()\n",
    "        signature_b64 = base64.b64encode(signature)\n",
    "\n",
    "        request.headers.update({\n",
    "            'CB-ACCESS-SIGN': signature_b64,\n",
    "            'CB-ACCESS-TIMESTAMP': timestamp,\n",
    "            'CB-ACCESS-KEY': self.api_key,\n",
    "            'CB-ACCESS-PASSPHRASE': self.passphrase,\n",
    "            'Content-Type': 'application/json'\n",
    "        })\n",
    "        return request\n",
    "\n",
    "api_url = 'https://api.pro.coinbase.com/'\n",
    "auth = CoinbaseWalletAuth(API_KEY, API_SECRET, API_PASS)\n",
    "\n",
    "# Get current user\n",
    "r = requests.get(api_url + 'accounts', auth=auth)\n",
    "print(r.json())"
   ]
  },
  {
   "cell_type": "code",
   "execution_count": null,
   "metadata": {},
   "outputs": [],
   "source": []
  }
 ]
}